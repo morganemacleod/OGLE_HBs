{
 "cells": [
  {
   "cell_type": "code",
   "execution_count": 2,
   "id": "ccce28fa",
   "metadata": {},
   "outputs": [
    {
     "name": "stdout",
     "output_type": "stream",
     "text": [
      "Constants defined...\n"
     ]
    }
   ],
   "source": [
    "import numpy as np\n",
    "import matplotlib.pyplot as plt\n",
    "from Constants import Constants\n",
    "from astropy.io import ascii\n",
    "from astropy.table import Table\n",
    "\n",
    "c=Constants()\n",
    "\n",
    "%matplotlib inline\n",
    "\n",
    "plt.rcParams['figure.figsize'] = (5,4)\n",
    "plt.rcParams['legend.frameon'] = True\n",
    "plt.rcParams['legend.fontsize'] = 14\n",
    "plt.rcParams['legend.borderpad'] = 0.2\n",
    "plt.rcParams['legend.labelspacing'] = 0.2\n",
    "plt.rcParams['legend.handletextpad'] = 0.2\n",
    "plt.rcParams['font.family'] = 'stixgeneral'\n",
    "plt.rcParams['mathtext.fontset'] = 'stix'\n",
    "plt.rcParams['font.size'] = 16"
   ]
  },
  {
   "cell_type": "code",
   "execution_count": 24,
   "id": "70e6245f",
   "metadata": {},
   "outputs": [
    {
     "data": {
      "text/plain": [
       "['ID',\n",
       " 'Type',\n",
       " 'RA',\n",
       " 'Decl',\n",
       " 'I',\n",
       " 'V',\n",
       " 'V_I',\n",
       " 'P',\n",
       " 'T0',\n",
       " 'A',\n",
       " 'Ecc',\n",
       " 'Incl',\n",
       " 'Peri',\n",
       " 'Model',\n",
       " 'loc']"
      ]
     },
     "execution_count": 24,
     "metadata": {},
     "output_type": "execute_result"
    }
   ],
   "source": [
    "def get_loc(name):\n",
    "    return name[5:8]\n",
    "get_loc=np.vectorize(get_loc)\n",
    "\n",
    "\n",
    "hb = ascii.read(\"query_1683478037.14515r.txt\",header_start=6,data_start=7)\n",
    "hb['loc'] = get_loc(hb['ID'])\n",
    "hb.keys()"
   ]
  },
  {
   "cell_type": "code",
   "execution_count": null,
   "id": "b860156e",
   "metadata": {},
   "outputs": [],
   "source": []
  },
  {
   "cell_type": "code",
   "execution_count": null,
   "id": "d07556f8",
   "metadata": {},
   "outputs": [],
   "source": []
  }
 ],
 "metadata": {
  "kernelspec": {
   "display_name": "Python 3 (ipykernel)",
   "language": "python",
   "name": "python3"
  },
  "language_info": {
   "codemirror_mode": {
    "name": "ipython",
    "version": 3
   },
   "file_extension": ".py",
   "mimetype": "text/x-python",
   "name": "python",
   "nbconvert_exporter": "python",
   "pygments_lexer": "ipython3",
   "version": "3.9.12"
  }
 },
 "nbformat": 4,
 "nbformat_minor": 5
}
